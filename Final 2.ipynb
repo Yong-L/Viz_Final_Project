{
 "cells": [
  {
   "cell_type": "code",
   "execution_count": 105,
   "metadata": {},
   "outputs": [],
   "source": [
    "def load_data():\n",
    "    \"\"\"\n",
    "    Load data from sc-est2017-agesex-civ.csv\n",
    "    \"\"\"\n",
    "    import csv\n",
    "\n",
    "    with open('sc-est2017-agesex-civ.csv', newline='') as csvfile:\n",
    "        reader = csv.DictReader(csvfile)\n",
    "\n",
    "        # 999 means total of all age group\n",
    "        census = list(filter(lambda x: x['NAME'] != 'United States' and\n",
    "                             x['AGE'] != '999' and\n",
    "                             x['AGE'] != '85',\n",
    "                             reader))\n",
    "        return census\n",
    "\n",
    "def population_by_year(year=2010, census=None):\n",
    "    \"\"\"\n",
    "    Filters through census dataset and returns the list by year of data\n",
    "    \"\"\"\n",
    "\n",
    "    if census is None:\n",
    "        return None\n",
    "\n",
    "    key = 'POPEST{}_CIV'.format(year)\n",
    "\n",
    "    states = {}\n",
    "\n",
    "    for row in census:\n",
    "        state = row['STATE']\n",
    "\n",
    "        if state not in states:\n",
    "            states[state] = {'Name': row['NAME'], 'id': int(row['STATE']), 'Population': 0}\n",
    "\n",
    "        states[state]['Population'] += int(row[key])\n",
    "\n",
    "    return list(states.values())\n",
    "\n",
    "def filter_state(year, state, census=None):\n",
    "    \"\"\"\n",
    "    Filters through the census data by year and state\n",
    "    \"\"\"\n",
    "    if census is None:\n",
    "        return None\n",
    "\n",
    "    key = 'POPEST{}_CIV'.format(year)\n",
    "\n",
    "#     for row in d\n",
    "    \n",
    "    data = list(filter(lambda x: str(x['STATE']) == str(state) and\n",
    "                       int(x['AGE']) != 999 and \n",
    "                       x['SEX'] != '0', census))\n",
    "\n",
    "#     print(data)\n",
    "#     for row in data:\n",
    "#         print(row['SEX'])\n",
    "    \n",
    "#     age = {}\n",
    "\n",
    "#     for row in data:\n",
    "\n",
    "#         if row['AGE'] not in age:\n",
    "#             age[row['AGE']] = {'Age': int(row['AGE']), 'Population': 0, 'Gender': row['SEX']}\n",
    "#         age[row['AGE']]['Population'] += int(row[key])\n",
    "\n",
    "    res = []\n",
    "    \n",
    "    for row in data:\n",
    "        res.append({\n",
    "            'Age': int(row['AGE']),\n",
    "            'Population': int(row[key]),\n",
    "            'Gender': 'Male' if int(row['SEX']) == 1 else 'Female'\n",
    "        })\n",
    "        \n",
    "    return res\n",
    "\n",
    "def show_map(census, year):\n",
    "    \"\"\"\n",
    "    Create interactive US map that shows the map that you can click\n",
    "    and show a more detailed dataset\n",
    "    \"\"\"\n",
    "    import altair as alt\n",
    "    from vega_datasets import data\n",
    "\n",
    "    states = alt.topo_feature(data.us_10m.url, 'states')\n",
    "\n",
    "    click = alt.selection(type='single', on='click', fields=['id'])\n",
    "\n",
    "    # US states background\n",
    "    background = alt.Chart(\n",
    "        states\n",
    "    ).encode(\n",
    "        color=alt.condition(click,\n",
    "                            alt.Color('Population', type='quantitative'),\n",
    "                            alt.value('lightgray')),\n",
    "        tooltip=['Population:Q', 'Name:N']\n",
    "    ).mark_geoshape(\n",
    "        fill='lightgray',\n",
    "        stroke='black'\n",
    "    ).transform_lookup(\n",
    "        lookup='id',\n",
    "        from_=alt.LookupData(alt.Data(values=census), 'id', ['Population', 'Name'])\n",
    "    ).properties(\n",
    "        title='US Census of {}'.format(year),\n",
    "        width=1000,\n",
    "        height=400\n",
    "    ).project(\n",
    "        type='albersUsa'\n",
    "    ).add_selection(\n",
    "        click\n",
    "    )\n",
    "\n",
    "    return background\n",
    "\n",
    "def show_bar(census):\n",
    "    \"\"\"\n",
    "    Create a bar chart that shows the age group of the specific state\n",
    "    \"\"\"\n",
    "\n",
    "    import altair as alt\n",
    "\n",
    "    bars = alt.Chart(alt.Data(values=census)).mark_bar().encode(\n",
    "        x='Population:Q',\n",
    "        y=alt.Y(\n",
    "            'Age:N',\n",
    "        ),\n",
    "        color=alt.Color('Population:Q')\n",
    "    )\n",
    "\n",
    "    return bars\n",
    "\n",
    "def show_scatter(data, state, year):\n",
    "    \"\"\"\n",
    "    Create a scatter plot that shows the age group of the specific state\n",
    "    \"\"\"\n",
    "    import altair as alt\n",
    "    \n",
    "#     print(filter_state(year, state, data))\n",
    "\n",
    "    source = alt.Data(values=filter_state(year, state, data))\n",
    "\n",
    "    brush = alt.selection_interval(encodings=['x'])\n",
    "\n",
    "    scatter = alt.Chart(source).mark_point().encode(\n",
    "        x='Age:Q',\n",
    "        y='Population:Q',\n",
    "        tooltip=['Age:Q', 'Population:Q'],\n",
    "        color=alt.condition(brush, 'Age:N', alt.value('lightgray'), legend=None)\n",
    "    ).transform_aggregate(\n",
    "        Population='sum(Population)',\n",
    "        groupby=['Age']\n",
    "    ).properties(\n",
    "        width=500,\n",
    "        height=500,\n",
    "        title='Scatter Plot of {}'.format(state_name)\n",
    "    ).add_selection(\n",
    "        brush\n",
    "    )\n",
    "\n",
    "    age_bars = alt.Chart(source).mark_bar().encode(\n",
    "        x='Population:Q',\n",
    "        y=alt.Y(\n",
    "            'Age:N',\n",
    "            sort=alt.EncodingSortField(\n",
    "                field=\"Population\", # The field to use for the sort\n",
    "                op=\"max\", # The operation to run on the field prior to sorting\n",
    "                order=\"descending\"  # The order to sort in\n",
    "            )\n",
    "        ),\n",
    "        tooltip=['Population:Q']\n",
    "    ).properties(\n",
    "        title='Top 50 Within Highlighted Range',\n",
    "        width=300,\n",
    "        height=500\n",
    "    ).transform_aggregate(\n",
    "        Population='sum(Population)',\n",
    "        groupby=['Age']\n",
    "    ).transform_filter(\n",
    "        brush\n",
    "    ).transform_window(\n",
    "        window=[{'op': 'rank', 'as': 'rank'}],\n",
    "        sort=[{'field': 'Population', 'order': 'descending'}]\n",
    "    ).transform_filter('datum.rank <= 50')\n",
    "    \n",
    "    gender_bars = alt.Chart(source).mark_bar().encode(\n",
    "        x='Gender:N',\n",
    "        y='Population:Q',\n",
    "        tooltip=['Population:Q', 'Gender:N']\n",
    "    ).transform_filter(\n",
    "        brush\n",
    "    ).transform_aggregate(\n",
    "        Population='sum(Population)',\n",
    "        groupby=['Gender']\n",
    "    ).properties(\n",
    "        title='Age Group by Gender',\n",
    "        width=200,\n",
    "        height=500\n",
    "    )\n",
    "    \n",
    "    return alt.hconcat(scatter, age_bars, gender_bars)\n",
    "\n",
    "def state_name(data, state):\n",
    "\n",
    "    for row in data:\n",
    "        if row['STATE'] == state:\n",
    "            return row['NAME']\n",
    "\n",
    "    return None\n"
   ]
  },
  {
   "cell_type": "code",
   "execution_count": 106,
   "metadata": {},
   "outputs": [
    {
     "data": {
      "application/vnd.vegalite.v2+json": {
       "$schema": "https://vega.github.io/schema/vega-lite/v2.6.0.json",
       "config": {
        "view": {
         "height": 300,
         "width": 400
        }
       },
       "hconcat": [
        {
         "data": {
          "values": [
           {
            "Age": 0,
            "Gender": "Male",
            "Population": 30160
           },
           {
            "Age": 1,
            "Gender": "Male",
            "Population": 30479
           },
           {
            "Age": 2,
            "Gender": "Male",
            "Population": 31549
           },
           {
            "Age": 3,
            "Gender": "Male",
            "Population": 31740
           },
           {
            "Age": 4,
            "Gender": "Male",
            "Population": 31088
           },
           {
            "Age": 5,
            "Gender": "Male",
            "Population": 30928
           },
           {
            "Age": 6,
            "Gender": "Male",
            "Population": 31063
           },
           {
            "Age": 7,
            "Gender": "Male",
            "Population": 30901
           },
           {
            "Age": 8,
            "Gender": "Male",
            "Population": 31101
           },
           {
            "Age": 9,
            "Gender": "Male",
            "Population": 32784
           },
           {
            "Age": 10,
            "Gender": "Male",
            "Population": 33322
           },
           {
            "Age": 11,
            "Gender": "Male",
            "Population": 32486
           },
           {
            "Age": 12,
            "Gender": "Male",
            "Population": 32839
           },
           {
            "Age": 13,
            "Gender": "Male",
            "Population": 32565
           },
           {
            "Age": 14,
            "Gender": "Male",
            "Population": 32400
           },
           {
            "Age": 15,
            "Gender": "Male",
            "Population": 33243
           },
           {
            "Age": 16,
            "Gender": "Male",
            "Population": 34206
           },
           {
            "Age": 17,
            "Gender": "Male",
            "Population": 34681
           },
           {
            "Age": 18,
            "Gender": "Male",
            "Population": 35212
           },
           {
            "Age": 19,
            "Gender": "Male",
            "Population": 35942
           },
           {
            "Age": 20,
            "Gender": "Male",
            "Population": 36011
           },
           {
            "Age": 21,
            "Gender": "Male",
            "Population": 34123
           },
           {
            "Age": 22,
            "Gender": "Male",
            "Population": 32853
           },
           {
            "Age": 23,
            "Gender": "Male",
            "Population": 31918
           },
           {
            "Age": 24,
            "Gender": "Male",
            "Population": 31167
           },
           {
            "Age": 25,
            "Gender": "Male",
            "Population": 30968
           },
           {
            "Age": 26,
            "Gender": "Male",
            "Population": 29658
           },
           {
            "Age": 27,
            "Gender": "Male",
            "Population": 30065
           },
           {
            "Age": 28,
            "Gender": "Male",
            "Population": 29989
           },
           {
            "Age": 29,
            "Gender": "Male",
            "Population": 30257
           },
           {
            "Age": 30,
            "Gender": "Male",
            "Population": 31147
           },
           {
            "Age": 31,
            "Gender": "Male",
            "Population": 29118
           },
           {
            "Age": 32,
            "Gender": "Male",
            "Population": 28660
           },
           {
            "Age": 33,
            "Gender": "Male",
            "Population": 28600
           },
           {
            "Age": 34,
            "Gender": "Male",
            "Population": 27623
           },
           {
            "Age": 35,
            "Gender": "Male",
            "Population": 28725
           },
           {
            "Age": 36,
            "Gender": "Male",
            "Population": 28136
           },
           {
            "Age": 37,
            "Gender": "Male",
            "Population": 28616
           },
           {
            "Age": 38,
            "Gender": "Male",
            "Population": 30442
           },
           {
            "Age": 39,
            "Gender": "Male",
            "Population": 32054
           },
           {
            "Age": 40,
            "Gender": "Male",
            "Population": 31730
           },
           {
            "Age": 41,
            "Gender": "Male",
            "Population": 30076
           },
           {
            "Age": 42,
            "Gender": "Male",
            "Population": 29240
           },
           {
            "Age": 43,
            "Gender": "Male",
            "Population": 29496
           },
           {
            "Age": 44,
            "Gender": "Male",
            "Population": 30681
           },
           {
            "Age": 45,
            "Gender": "Male",
            "Population": 32911
           },
           {
            "Age": 46,
            "Gender": "Male",
            "Population": 33477
           },
           {
            "Age": 47,
            "Gender": "Male",
            "Population": 33368
           },
           {
            "Age": 48,
            "Gender": "Male",
            "Population": 33769
           },
           {
            "Age": 49,
            "Gender": "Male",
            "Population": 34180
           },
           {
            "Age": 50,
            "Gender": "Male",
            "Population": 34623
           },
           {
            "Age": 51,
            "Gender": "Male",
            "Population": 33518
           },
           {
            "Age": 52,
            "Gender": "Male",
            "Population": 33578
           },
           {
            "Age": 53,
            "Gender": "Male",
            "Population": 33922
           },
           {
            "Age": 54,
            "Gender": "Male",
            "Population": 32917
           },
           {
            "Age": 55,
            "Gender": "Male",
            "Population": 32293
           },
           {
            "Age": 56,
            "Gender": "Male",
            "Population": 31125
           },
           {
            "Age": 57,
            "Gender": "Male",
            "Population": 29808
           },
           {
            "Age": 58,
            "Gender": "Male",
            "Population": 29089
           },
           {
            "Age": 59,
            "Gender": "Male",
            "Population": 28237
           },
           {
            "Age": 60,
            "Gender": "Male",
            "Population": 27899
           },
           {
            "Age": 61,
            "Gender": "Male",
            "Population": 27458
           },
           {
            "Age": 62,
            "Gender": "Male",
            "Population": 27590
           },
           {
            "Age": 63,
            "Gender": "Male",
            "Population": 28702
           },
           {
            "Age": 64,
            "Gender": "Male",
            "Population": 21039
           },
           {
            "Age": 65,
            "Gender": "Male",
            "Population": 21013
           },
           {
            "Age": 66,
            "Gender": "Male",
            "Population": 20768
           },
           {
            "Age": 67,
            "Gender": "Male",
            "Population": 21228
           },
           {
            "Age": 68,
            "Gender": "Male",
            "Population": 18351
           },
           {
            "Age": 69,
            "Gender": "Male",
            "Population": 16978
           },
           {
            "Age": 70,
            "Gender": "Male",
            "Population": 16260
           },
           {
            "Age": 71,
            "Gender": "Male",
            "Population": 15336
           },
           {
            "Age": 72,
            "Gender": "Male",
            "Population": 14613
           },
           {
            "Age": 73,
            "Gender": "Male",
            "Population": 13408
           },
           {
            "Age": 74,
            "Gender": "Male",
            "Population": 12928
           },
           {
            "Age": 75,
            "Gender": "Male",
            "Population": 12270
           },
           {
            "Age": 76,
            "Gender": "Male",
            "Population": 10948
           },
           {
            "Age": 77,
            "Gender": "Male",
            "Population": 10381
           },
           {
            "Age": 78,
            "Gender": "Male",
            "Population": 9703
           },
           {
            "Age": 79,
            "Gender": "Male",
            "Population": 8865
           },
           {
            "Age": 80,
            "Gender": "Male",
            "Population": 8372
           },
           {
            "Age": 81,
            "Gender": "Male",
            "Population": 7421
           },
           {
            "Age": 82,
            "Gender": "Male",
            "Population": 6778
           },
           {
            "Age": 83,
            "Gender": "Male",
            "Population": 6091
           },
           {
            "Age": 84,
            "Gender": "Male",
            "Population": 5266
           },
           {
            "Age": 0,
            "Gender": "Female",
            "Population": 29116
           },
           {
            "Age": 1,
            "Gender": "Female",
            "Population": 29279
           },
           {
            "Age": 2,
            "Gender": "Female",
            "Population": 30512
           },
           {
            "Age": 3,
            "Gender": "Female",
            "Population": 30351
           },
           {
            "Age": 4,
            "Gender": "Female",
            "Population": 29992
           },
           {
            "Age": 5,
            "Gender": "Female",
            "Population": 29717
           },
           {
            "Age": 6,
            "Gender": "Female",
            "Population": 29672
           },
           {
            "Age": 7,
            "Gender": "Female",
            "Population": 29697
           },
           {
            "Age": 8,
            "Gender": "Female",
            "Population": 29972
           },
           {
            "Age": 9,
            "Gender": "Female",
            "Population": 31410
           },
           {
            "Age": 10,
            "Gender": "Female",
            "Population": 32009
           },
           {
            "Age": 11,
            "Gender": "Female",
            "Population": 31334
           },
           {
            "Age": 12,
            "Gender": "Female",
            "Population": 31330
           },
           {
            "Age": 13,
            "Gender": "Female",
            "Population": 30898
           },
           {
            "Age": 14,
            "Gender": "Female",
            "Population": 30945
           },
           {
            "Age": 15,
            "Gender": "Female",
            "Population": 31596
           },
           {
            "Age": 16,
            "Gender": "Female",
            "Population": 32336
           },
           {
            "Age": 17,
            "Gender": "Female",
            "Population": 32740
           },
           {
            "Age": 18,
            "Gender": "Female",
            "Population": 33955
           },
           {
            "Age": 19,
            "Gender": "Female",
            "Population": 36130
           },
           {
            "Age": 20,
            "Gender": "Female",
            "Population": 36614
           },
           {
            "Age": 21,
            "Gender": "Female",
            "Population": 34685
           },
           {
            "Age": 22,
            "Gender": "Female",
            "Population": 33259
           },
           {
            "Age": 23,
            "Gender": "Female",
            "Population": 32266
           },
           {
            "Age": 24,
            "Gender": "Female",
            "Population": 31847
           },
           {
            "Age": 25,
            "Gender": "Female",
            "Population": 31848
           },
           {
            "Age": 26,
            "Gender": "Female",
            "Population": 31063
           },
           {
            "Age": 27,
            "Gender": "Female",
            "Population": 31215
           },
           {
            "Age": 28,
            "Gender": "Female",
            "Population": 31307
           },
           {
            "Age": 29,
            "Gender": "Female",
            "Population": 31468
           },
           {
            "Age": 30,
            "Gender": "Female",
            "Population": 32173
           },
           {
            "Age": 31,
            "Gender": "Female",
            "Population": 30474
           },
           {
            "Age": 32,
            "Gender": "Female",
            "Population": 30116
           },
           {
            "Age": 33,
            "Gender": "Female",
            "Population": 30027
           },
           {
            "Age": 34,
            "Gender": "Female",
            "Population": 28949
           },
           {
            "Age": 35,
            "Gender": "Female",
            "Population": 30051
           },
           {
            "Age": 36,
            "Gender": "Female",
            "Population": 29644
           },
           {
            "Age": 37,
            "Gender": "Female",
            "Population": 30650
           },
           {
            "Age": 38,
            "Gender": "Female",
            "Population": 32041
           },
           {
            "Age": 39,
            "Gender": "Female",
            "Population": 33643
           },
           {
            "Age": 40,
            "Gender": "Female",
            "Population": 33151
           },
           {
            "Age": 41,
            "Gender": "Female",
            "Population": 31415
           },
           {
            "Age": 42,
            "Gender": "Female",
            "Population": 30746
           },
           {
            "Age": 43,
            "Gender": "Female",
            "Population": 30951
           },
           {
            "Age": 44,
            "Gender": "Female",
            "Population": 32057
           },
           {
            "Age": 45,
            "Gender": "Female",
            "Population": 34366
           },
           {
            "Age": 46,
            "Gender": "Female",
            "Population": 35084
           },
           {
            "Age": 47,
            "Gender": "Female",
            "Population": 35324
           },
           {
            "Age": 48,
            "Gender": "Female",
            "Population": 35634
           },
           {
            "Age": 49,
            "Gender": "Female",
            "Population": 36198
           },
           {
            "Age": 50,
            "Gender": "Female",
            "Population": 36353
           },
           {
            "Age": 51,
            "Gender": "Female",
            "Population": 35726
           },
           {
            "Age": 52,
            "Gender": "Female",
            "Population": 35946
           },
           {
            "Age": 53,
            "Gender": "Female",
            "Population": 36070
           },
           {
            "Age": 54,
            "Gender": "Female",
            "Population": 34862
           },
           {
            "Age": 55,
            "Gender": "Female",
            "Population": 34747
           },
           {
            "Age": 56,
            "Gender": "Female",
            "Population": 33913
           },
           {
            "Age": 57,
            "Gender": "Female",
            "Population": 32407
           },
           {
            "Age": 58,
            "Gender": "Female",
            "Population": 31563
           },
           {
            "Age": 59,
            "Gender": "Female",
            "Population": 30695
           },
           {
            "Age": 60,
            "Gender": "Female",
            "Population": 30397
           },
           {
            "Age": 61,
            "Gender": "Female",
            "Population": 30232
           },
           {
            "Age": 62,
            "Gender": "Female",
            "Population": 30108
           },
           {
            "Age": 63,
            "Gender": "Female",
            "Population": 31353
           },
           {
            "Age": 64,
            "Gender": "Female",
            "Population": 23509
           },
           {
            "Age": 65,
            "Gender": "Female",
            "Population": 23650
           },
           {
            "Age": 66,
            "Gender": "Female",
            "Population": 23391
           },
           {
            "Age": 67,
            "Gender": "Female",
            "Population": 24352
           },
           {
            "Age": 68,
            "Gender": "Female",
            "Population": 21230
           },
           {
            "Age": 69,
            "Gender": "Female",
            "Population": 19749
           },
           {
            "Age": 70,
            "Gender": "Female",
            "Population": 19409
           },
           {
            "Age": 71,
            "Gender": "Female",
            "Population": 18499
           },
           {
            "Age": 72,
            "Gender": "Female",
            "Population": 18105
           },
           {
            "Age": 73,
            "Gender": "Female",
            "Population": 16730
           },
           {
            "Age": 74,
            "Gender": "Female",
            "Population": 16272
           },
           {
            "Age": 75,
            "Gender": "Female",
            "Population": 15932
           },
           {
            "Age": 76,
            "Gender": "Female",
            "Population": 14435
           },
           {
            "Age": 77,
            "Gender": "Female",
            "Population": 13914
           },
           {
            "Age": 78,
            "Gender": "Female",
            "Population": 13597
           },
           {
            "Age": 79,
            "Gender": "Female",
            "Population": 13085
           },
           {
            "Age": 80,
            "Gender": "Female",
            "Population": 12664
           },
           {
            "Age": 81,
            "Gender": "Female",
            "Population": 11589
           },
           {
            "Age": 82,
            "Gender": "Female",
            "Population": 11206
           },
           {
            "Age": 83,
            "Gender": "Female",
            "Population": 10435
           },
           {
            "Age": 84,
            "Gender": "Female",
            "Population": 9387
           }
          ]
         },
         "encoding": {
          "color": {
           "condition": {
            "field": "Age",
            "legend": null,
            "selection": "selector041",
            "type": "nominal"
           },
           "value": "lightgray"
          },
          "tooltip": [
           {
            "field": "Age",
            "type": "quantitative"
           },
           {
            "field": "Population",
            "type": "quantitative"
           }
          ],
          "x": {
           "field": "Age",
           "type": "quantitative"
          },
          "y": {
           "field": "Population",
           "type": "quantitative"
          }
         },
         "height": 500,
         "mark": "point",
         "selection": {
          "selector041": {
           "encodings": [
            "x"
           ],
           "mark": {
            "fill": "#333",
            "fillOpacity": 0.125,
            "stroke": "white"
           },
           "on": "[mousedown, window:mouseup] > window:mousemove!",
           "resolve": "global",
           "translate": "[mousedown, window:mouseup] > window:mousemove!",
           "type": "interval",
           "zoom": "wheel!"
          }
         },
         "title": "Scatter Plot of <function state_name at 0x7f4034622488>",
         "transform": [
          {
           "aggregate": [
            {
             "as": "Population",
             "field": "Population",
             "op": "sum"
            }
           ],
           "groupby": [
            "Age"
           ]
          }
         ],
         "width": 500
        },
        {
         "data": {
          "values": [
           {
            "Age": 0,
            "Gender": "Male",
            "Population": 30160
           },
           {
            "Age": 1,
            "Gender": "Male",
            "Population": 30479
           },
           {
            "Age": 2,
            "Gender": "Male",
            "Population": 31549
           },
           {
            "Age": 3,
            "Gender": "Male",
            "Population": 31740
           },
           {
            "Age": 4,
            "Gender": "Male",
            "Population": 31088
           },
           {
            "Age": 5,
            "Gender": "Male",
            "Population": 30928
           },
           {
            "Age": 6,
            "Gender": "Male",
            "Population": 31063
           },
           {
            "Age": 7,
            "Gender": "Male",
            "Population": 30901
           },
           {
            "Age": 8,
            "Gender": "Male",
            "Population": 31101
           },
           {
            "Age": 9,
            "Gender": "Male",
            "Population": 32784
           },
           {
            "Age": 10,
            "Gender": "Male",
            "Population": 33322
           },
           {
            "Age": 11,
            "Gender": "Male",
            "Population": 32486
           },
           {
            "Age": 12,
            "Gender": "Male",
            "Population": 32839
           },
           {
            "Age": 13,
            "Gender": "Male",
            "Population": 32565
           },
           {
            "Age": 14,
            "Gender": "Male",
            "Population": 32400
           },
           {
            "Age": 15,
            "Gender": "Male",
            "Population": 33243
           },
           {
            "Age": 16,
            "Gender": "Male",
            "Population": 34206
           },
           {
            "Age": 17,
            "Gender": "Male",
            "Population": 34681
           },
           {
            "Age": 18,
            "Gender": "Male",
            "Population": 35212
           },
           {
            "Age": 19,
            "Gender": "Male",
            "Population": 35942
           },
           {
            "Age": 20,
            "Gender": "Male",
            "Population": 36011
           },
           {
            "Age": 21,
            "Gender": "Male",
            "Population": 34123
           },
           {
            "Age": 22,
            "Gender": "Male",
            "Population": 32853
           },
           {
            "Age": 23,
            "Gender": "Male",
            "Population": 31918
           },
           {
            "Age": 24,
            "Gender": "Male",
            "Population": 31167
           },
           {
            "Age": 25,
            "Gender": "Male",
            "Population": 30968
           },
           {
            "Age": 26,
            "Gender": "Male",
            "Population": 29658
           },
           {
            "Age": 27,
            "Gender": "Male",
            "Population": 30065
           },
           {
            "Age": 28,
            "Gender": "Male",
            "Population": 29989
           },
           {
            "Age": 29,
            "Gender": "Male",
            "Population": 30257
           },
           {
            "Age": 30,
            "Gender": "Male",
            "Population": 31147
           },
           {
            "Age": 31,
            "Gender": "Male",
            "Population": 29118
           },
           {
            "Age": 32,
            "Gender": "Male",
            "Population": 28660
           },
           {
            "Age": 33,
            "Gender": "Male",
            "Population": 28600
           },
           {
            "Age": 34,
            "Gender": "Male",
            "Population": 27623
           },
           {
            "Age": 35,
            "Gender": "Male",
            "Population": 28725
           },
           {
            "Age": 36,
            "Gender": "Male",
            "Population": 28136
           },
           {
            "Age": 37,
            "Gender": "Male",
            "Population": 28616
           },
           {
            "Age": 38,
            "Gender": "Male",
            "Population": 30442
           },
           {
            "Age": 39,
            "Gender": "Male",
            "Population": 32054
           },
           {
            "Age": 40,
            "Gender": "Male",
            "Population": 31730
           },
           {
            "Age": 41,
            "Gender": "Male",
            "Population": 30076
           },
           {
            "Age": 42,
            "Gender": "Male",
            "Population": 29240
           },
           {
            "Age": 43,
            "Gender": "Male",
            "Population": 29496
           },
           {
            "Age": 44,
            "Gender": "Male",
            "Population": 30681
           },
           {
            "Age": 45,
            "Gender": "Male",
            "Population": 32911
           },
           {
            "Age": 46,
            "Gender": "Male",
            "Population": 33477
           },
           {
            "Age": 47,
            "Gender": "Male",
            "Population": 33368
           },
           {
            "Age": 48,
            "Gender": "Male",
            "Population": 33769
           },
           {
            "Age": 49,
            "Gender": "Male",
            "Population": 34180
           },
           {
            "Age": 50,
            "Gender": "Male",
            "Population": 34623
           },
           {
            "Age": 51,
            "Gender": "Male",
            "Population": 33518
           },
           {
            "Age": 52,
            "Gender": "Male",
            "Population": 33578
           },
           {
            "Age": 53,
            "Gender": "Male",
            "Population": 33922
           },
           {
            "Age": 54,
            "Gender": "Male",
            "Population": 32917
           },
           {
            "Age": 55,
            "Gender": "Male",
            "Population": 32293
           },
           {
            "Age": 56,
            "Gender": "Male",
            "Population": 31125
           },
           {
            "Age": 57,
            "Gender": "Male",
            "Population": 29808
           },
           {
            "Age": 58,
            "Gender": "Male",
            "Population": 29089
           },
           {
            "Age": 59,
            "Gender": "Male",
            "Population": 28237
           },
           {
            "Age": 60,
            "Gender": "Male",
            "Population": 27899
           },
           {
            "Age": 61,
            "Gender": "Male",
            "Population": 27458
           },
           {
            "Age": 62,
            "Gender": "Male",
            "Population": 27590
           },
           {
            "Age": 63,
            "Gender": "Male",
            "Population": 28702
           },
           {
            "Age": 64,
            "Gender": "Male",
            "Population": 21039
           },
           {
            "Age": 65,
            "Gender": "Male",
            "Population": 21013
           },
           {
            "Age": 66,
            "Gender": "Male",
            "Population": 20768
           },
           {
            "Age": 67,
            "Gender": "Male",
            "Population": 21228
           },
           {
            "Age": 68,
            "Gender": "Male",
            "Population": 18351
           },
           {
            "Age": 69,
            "Gender": "Male",
            "Population": 16978
           },
           {
            "Age": 70,
            "Gender": "Male",
            "Population": 16260
           },
           {
            "Age": 71,
            "Gender": "Male",
            "Population": 15336
           },
           {
            "Age": 72,
            "Gender": "Male",
            "Population": 14613
           },
           {
            "Age": 73,
            "Gender": "Male",
            "Population": 13408
           },
           {
            "Age": 74,
            "Gender": "Male",
            "Population": 12928
           },
           {
            "Age": 75,
            "Gender": "Male",
            "Population": 12270
           },
           {
            "Age": 76,
            "Gender": "Male",
            "Population": 10948
           },
           {
            "Age": 77,
            "Gender": "Male",
            "Population": 10381
           },
           {
            "Age": 78,
            "Gender": "Male",
            "Population": 9703
           },
           {
            "Age": 79,
            "Gender": "Male",
            "Population": 8865
           },
           {
            "Age": 80,
            "Gender": "Male",
            "Population": 8372
           },
           {
            "Age": 81,
            "Gender": "Male",
            "Population": 7421
           },
           {
            "Age": 82,
            "Gender": "Male",
            "Population": 6778
           },
           {
            "Age": 83,
            "Gender": "Male",
            "Population": 6091
           },
           {
            "Age": 84,
            "Gender": "Male",
            "Population": 5266
           },
           {
            "Age": 0,
            "Gender": "Female",
            "Population": 29116
           },
           {
            "Age": 1,
            "Gender": "Female",
            "Population": 29279
           },
           {
            "Age": 2,
            "Gender": "Female",
            "Population": 30512
           },
           {
            "Age": 3,
            "Gender": "Female",
            "Population": 30351
           },
           {
            "Age": 4,
            "Gender": "Female",
            "Population": 29992
           },
           {
            "Age": 5,
            "Gender": "Female",
            "Population": 29717
           },
           {
            "Age": 6,
            "Gender": "Female",
            "Population": 29672
           },
           {
            "Age": 7,
            "Gender": "Female",
            "Population": 29697
           },
           {
            "Age": 8,
            "Gender": "Female",
            "Population": 29972
           },
           {
            "Age": 9,
            "Gender": "Female",
            "Population": 31410
           },
           {
            "Age": 10,
            "Gender": "Female",
            "Population": 32009
           },
           {
            "Age": 11,
            "Gender": "Female",
            "Population": 31334
           },
           {
            "Age": 12,
            "Gender": "Female",
            "Population": 31330
           },
           {
            "Age": 13,
            "Gender": "Female",
            "Population": 30898
           },
           {
            "Age": 14,
            "Gender": "Female",
            "Population": 30945
           },
           {
            "Age": 15,
            "Gender": "Female",
            "Population": 31596
           },
           {
            "Age": 16,
            "Gender": "Female",
            "Population": 32336
           },
           {
            "Age": 17,
            "Gender": "Female",
            "Population": 32740
           },
           {
            "Age": 18,
            "Gender": "Female",
            "Population": 33955
           },
           {
            "Age": 19,
            "Gender": "Female",
            "Population": 36130
           },
           {
            "Age": 20,
            "Gender": "Female",
            "Population": 36614
           },
           {
            "Age": 21,
            "Gender": "Female",
            "Population": 34685
           },
           {
            "Age": 22,
            "Gender": "Female",
            "Population": 33259
           },
           {
            "Age": 23,
            "Gender": "Female",
            "Population": 32266
           },
           {
            "Age": 24,
            "Gender": "Female",
            "Population": 31847
           },
           {
            "Age": 25,
            "Gender": "Female",
            "Population": 31848
           },
           {
            "Age": 26,
            "Gender": "Female",
            "Population": 31063
           },
           {
            "Age": 27,
            "Gender": "Female",
            "Population": 31215
           },
           {
            "Age": 28,
            "Gender": "Female",
            "Population": 31307
           },
           {
            "Age": 29,
            "Gender": "Female",
            "Population": 31468
           },
           {
            "Age": 30,
            "Gender": "Female",
            "Population": 32173
           },
           {
            "Age": 31,
            "Gender": "Female",
            "Population": 30474
           },
           {
            "Age": 32,
            "Gender": "Female",
            "Population": 30116
           },
           {
            "Age": 33,
            "Gender": "Female",
            "Population": 30027
           },
           {
            "Age": 34,
            "Gender": "Female",
            "Population": 28949
           },
           {
            "Age": 35,
            "Gender": "Female",
            "Population": 30051
           },
           {
            "Age": 36,
            "Gender": "Female",
            "Population": 29644
           },
           {
            "Age": 37,
            "Gender": "Female",
            "Population": 30650
           },
           {
            "Age": 38,
            "Gender": "Female",
            "Population": 32041
           },
           {
            "Age": 39,
            "Gender": "Female",
            "Population": 33643
           },
           {
            "Age": 40,
            "Gender": "Female",
            "Population": 33151
           },
           {
            "Age": 41,
            "Gender": "Female",
            "Population": 31415
           },
           {
            "Age": 42,
            "Gender": "Female",
            "Population": 30746
           },
           {
            "Age": 43,
            "Gender": "Female",
            "Population": 30951
           },
           {
            "Age": 44,
            "Gender": "Female",
            "Population": 32057
           },
           {
            "Age": 45,
            "Gender": "Female",
            "Population": 34366
           },
           {
            "Age": 46,
            "Gender": "Female",
            "Population": 35084
           },
           {
            "Age": 47,
            "Gender": "Female",
            "Population": 35324
           },
           {
            "Age": 48,
            "Gender": "Female",
            "Population": 35634
           },
           {
            "Age": 49,
            "Gender": "Female",
            "Population": 36198
           },
           {
            "Age": 50,
            "Gender": "Female",
            "Population": 36353
           },
           {
            "Age": 51,
            "Gender": "Female",
            "Population": 35726
           },
           {
            "Age": 52,
            "Gender": "Female",
            "Population": 35946
           },
           {
            "Age": 53,
            "Gender": "Female",
            "Population": 36070
           },
           {
            "Age": 54,
            "Gender": "Female",
            "Population": 34862
           },
           {
            "Age": 55,
            "Gender": "Female",
            "Population": 34747
           },
           {
            "Age": 56,
            "Gender": "Female",
            "Population": 33913
           },
           {
            "Age": 57,
            "Gender": "Female",
            "Population": 32407
           },
           {
            "Age": 58,
            "Gender": "Female",
            "Population": 31563
           },
           {
            "Age": 59,
            "Gender": "Female",
            "Population": 30695
           },
           {
            "Age": 60,
            "Gender": "Female",
            "Population": 30397
           },
           {
            "Age": 61,
            "Gender": "Female",
            "Population": 30232
           },
           {
            "Age": 62,
            "Gender": "Female",
            "Population": 30108
           },
           {
            "Age": 63,
            "Gender": "Female",
            "Population": 31353
           },
           {
            "Age": 64,
            "Gender": "Female",
            "Population": 23509
           },
           {
            "Age": 65,
            "Gender": "Female",
            "Population": 23650
           },
           {
            "Age": 66,
            "Gender": "Female",
            "Population": 23391
           },
           {
            "Age": 67,
            "Gender": "Female",
            "Population": 24352
           },
           {
            "Age": 68,
            "Gender": "Female",
            "Population": 21230
           },
           {
            "Age": 69,
            "Gender": "Female",
            "Population": 19749
           },
           {
            "Age": 70,
            "Gender": "Female",
            "Population": 19409
           },
           {
            "Age": 71,
            "Gender": "Female",
            "Population": 18499
           },
           {
            "Age": 72,
            "Gender": "Female",
            "Population": 18105
           },
           {
            "Age": 73,
            "Gender": "Female",
            "Population": 16730
           },
           {
            "Age": 74,
            "Gender": "Female",
            "Population": 16272
           },
           {
            "Age": 75,
            "Gender": "Female",
            "Population": 15932
           },
           {
            "Age": 76,
            "Gender": "Female",
            "Population": 14435
           },
           {
            "Age": 77,
            "Gender": "Female",
            "Population": 13914
           },
           {
            "Age": 78,
            "Gender": "Female",
            "Population": 13597
           },
           {
            "Age": 79,
            "Gender": "Female",
            "Population": 13085
           },
           {
            "Age": 80,
            "Gender": "Female",
            "Population": 12664
           },
           {
            "Age": 81,
            "Gender": "Female",
            "Population": 11589
           },
           {
            "Age": 82,
            "Gender": "Female",
            "Population": 11206
           },
           {
            "Age": 83,
            "Gender": "Female",
            "Population": 10435
           },
           {
            "Age": 84,
            "Gender": "Female",
            "Population": 9387
           }
          ]
         },
         "encoding": {
          "tooltip": [
           {
            "field": "Population",
            "type": "quantitative"
           }
          ],
          "x": {
           "field": "Population",
           "type": "quantitative"
          },
          "y": {
           "field": "Age",
           "sort": {
            "field": "Population",
            "op": "max",
            "order": "descending"
           },
           "type": "nominal"
          }
         },
         "height": 500,
         "mark": "bar",
         "title": "Top 50 Within Highlighted Range",
         "transform": [
          {
           "aggregate": [
            {
             "as": "Population",
             "field": "Population",
             "op": "sum"
            }
           ],
           "groupby": [
            "Age"
           ]
          },
          {
           "filter": {
            "selection": "selector041"
           }
          },
          {
           "sort": [
            {
             "field": "Population",
             "order": "descending"
            }
           ],
           "window": [
            {
             "as": "rank",
             "op": "rank"
            }
           ]
          },
          {
           "filter": "datum.rank <= 50"
          }
         ],
         "width": 300
        },
        {
         "data": {
          "values": [
           {
            "Age": 0,
            "Gender": "Male",
            "Population": 30160
           },
           {
            "Age": 1,
            "Gender": "Male",
            "Population": 30479
           },
           {
            "Age": 2,
            "Gender": "Male",
            "Population": 31549
           },
           {
            "Age": 3,
            "Gender": "Male",
            "Population": 31740
           },
           {
            "Age": 4,
            "Gender": "Male",
            "Population": 31088
           },
           {
            "Age": 5,
            "Gender": "Male",
            "Population": 30928
           },
           {
            "Age": 6,
            "Gender": "Male",
            "Population": 31063
           },
           {
            "Age": 7,
            "Gender": "Male",
            "Population": 30901
           },
           {
            "Age": 8,
            "Gender": "Male",
            "Population": 31101
           },
           {
            "Age": 9,
            "Gender": "Male",
            "Population": 32784
           },
           {
            "Age": 10,
            "Gender": "Male",
            "Population": 33322
           },
           {
            "Age": 11,
            "Gender": "Male",
            "Population": 32486
           },
           {
            "Age": 12,
            "Gender": "Male",
            "Population": 32839
           },
           {
            "Age": 13,
            "Gender": "Male",
            "Population": 32565
           },
           {
            "Age": 14,
            "Gender": "Male",
            "Population": 32400
           },
           {
            "Age": 15,
            "Gender": "Male",
            "Population": 33243
           },
           {
            "Age": 16,
            "Gender": "Male",
            "Population": 34206
           },
           {
            "Age": 17,
            "Gender": "Male",
            "Population": 34681
           },
           {
            "Age": 18,
            "Gender": "Male",
            "Population": 35212
           },
           {
            "Age": 19,
            "Gender": "Male",
            "Population": 35942
           },
           {
            "Age": 20,
            "Gender": "Male",
            "Population": 36011
           },
           {
            "Age": 21,
            "Gender": "Male",
            "Population": 34123
           },
           {
            "Age": 22,
            "Gender": "Male",
            "Population": 32853
           },
           {
            "Age": 23,
            "Gender": "Male",
            "Population": 31918
           },
           {
            "Age": 24,
            "Gender": "Male",
            "Population": 31167
           },
           {
            "Age": 25,
            "Gender": "Male",
            "Population": 30968
           },
           {
            "Age": 26,
            "Gender": "Male",
            "Population": 29658
           },
           {
            "Age": 27,
            "Gender": "Male",
            "Population": 30065
           },
           {
            "Age": 28,
            "Gender": "Male",
            "Population": 29989
           },
           {
            "Age": 29,
            "Gender": "Male",
            "Population": 30257
           },
           {
            "Age": 30,
            "Gender": "Male",
            "Population": 31147
           },
           {
            "Age": 31,
            "Gender": "Male",
            "Population": 29118
           },
           {
            "Age": 32,
            "Gender": "Male",
            "Population": 28660
           },
           {
            "Age": 33,
            "Gender": "Male",
            "Population": 28600
           },
           {
            "Age": 34,
            "Gender": "Male",
            "Population": 27623
           },
           {
            "Age": 35,
            "Gender": "Male",
            "Population": 28725
           },
           {
            "Age": 36,
            "Gender": "Male",
            "Population": 28136
           },
           {
            "Age": 37,
            "Gender": "Male",
            "Population": 28616
           },
           {
            "Age": 38,
            "Gender": "Male",
            "Population": 30442
           },
           {
            "Age": 39,
            "Gender": "Male",
            "Population": 32054
           },
           {
            "Age": 40,
            "Gender": "Male",
            "Population": 31730
           },
           {
            "Age": 41,
            "Gender": "Male",
            "Population": 30076
           },
           {
            "Age": 42,
            "Gender": "Male",
            "Population": 29240
           },
           {
            "Age": 43,
            "Gender": "Male",
            "Population": 29496
           },
           {
            "Age": 44,
            "Gender": "Male",
            "Population": 30681
           },
           {
            "Age": 45,
            "Gender": "Male",
            "Population": 32911
           },
           {
            "Age": 46,
            "Gender": "Male",
            "Population": 33477
           },
           {
            "Age": 47,
            "Gender": "Male",
            "Population": 33368
           },
           {
            "Age": 48,
            "Gender": "Male",
            "Population": 33769
           },
           {
            "Age": 49,
            "Gender": "Male",
            "Population": 34180
           },
           {
            "Age": 50,
            "Gender": "Male",
            "Population": 34623
           },
           {
            "Age": 51,
            "Gender": "Male",
            "Population": 33518
           },
           {
            "Age": 52,
            "Gender": "Male",
            "Population": 33578
           },
           {
            "Age": 53,
            "Gender": "Male",
            "Population": 33922
           },
           {
            "Age": 54,
            "Gender": "Male",
            "Population": 32917
           },
           {
            "Age": 55,
            "Gender": "Male",
            "Population": 32293
           },
           {
            "Age": 56,
            "Gender": "Male",
            "Population": 31125
           },
           {
            "Age": 57,
            "Gender": "Male",
            "Population": 29808
           },
           {
            "Age": 58,
            "Gender": "Male",
            "Population": 29089
           },
           {
            "Age": 59,
            "Gender": "Male",
            "Population": 28237
           },
           {
            "Age": 60,
            "Gender": "Male",
            "Population": 27899
           },
           {
            "Age": 61,
            "Gender": "Male",
            "Population": 27458
           },
           {
            "Age": 62,
            "Gender": "Male",
            "Population": 27590
           },
           {
            "Age": 63,
            "Gender": "Male",
            "Population": 28702
           },
           {
            "Age": 64,
            "Gender": "Male",
            "Population": 21039
           },
           {
            "Age": 65,
            "Gender": "Male",
            "Population": 21013
           },
           {
            "Age": 66,
            "Gender": "Male",
            "Population": 20768
           },
           {
            "Age": 67,
            "Gender": "Male",
            "Population": 21228
           },
           {
            "Age": 68,
            "Gender": "Male",
            "Population": 18351
           },
           {
            "Age": 69,
            "Gender": "Male",
            "Population": 16978
           },
           {
            "Age": 70,
            "Gender": "Male",
            "Population": 16260
           },
           {
            "Age": 71,
            "Gender": "Male",
            "Population": 15336
           },
           {
            "Age": 72,
            "Gender": "Male",
            "Population": 14613
           },
           {
            "Age": 73,
            "Gender": "Male",
            "Population": 13408
           },
           {
            "Age": 74,
            "Gender": "Male",
            "Population": 12928
           },
           {
            "Age": 75,
            "Gender": "Male",
            "Population": 12270
           },
           {
            "Age": 76,
            "Gender": "Male",
            "Population": 10948
           },
           {
            "Age": 77,
            "Gender": "Male",
            "Population": 10381
           },
           {
            "Age": 78,
            "Gender": "Male",
            "Population": 9703
           },
           {
            "Age": 79,
            "Gender": "Male",
            "Population": 8865
           },
           {
            "Age": 80,
            "Gender": "Male",
            "Population": 8372
           },
           {
            "Age": 81,
            "Gender": "Male",
            "Population": 7421
           },
           {
            "Age": 82,
            "Gender": "Male",
            "Population": 6778
           },
           {
            "Age": 83,
            "Gender": "Male",
            "Population": 6091
           },
           {
            "Age": 84,
            "Gender": "Male",
            "Population": 5266
           },
           {
            "Age": 0,
            "Gender": "Female",
            "Population": 29116
           },
           {
            "Age": 1,
            "Gender": "Female",
            "Population": 29279
           },
           {
            "Age": 2,
            "Gender": "Female",
            "Population": 30512
           },
           {
            "Age": 3,
            "Gender": "Female",
            "Population": 30351
           },
           {
            "Age": 4,
            "Gender": "Female",
            "Population": 29992
           },
           {
            "Age": 5,
            "Gender": "Female",
            "Population": 29717
           },
           {
            "Age": 6,
            "Gender": "Female",
            "Population": 29672
           },
           {
            "Age": 7,
            "Gender": "Female",
            "Population": 29697
           },
           {
            "Age": 8,
            "Gender": "Female",
            "Population": 29972
           },
           {
            "Age": 9,
            "Gender": "Female",
            "Population": 31410
           },
           {
            "Age": 10,
            "Gender": "Female",
            "Population": 32009
           },
           {
            "Age": 11,
            "Gender": "Female",
            "Population": 31334
           },
           {
            "Age": 12,
            "Gender": "Female",
            "Population": 31330
           },
           {
            "Age": 13,
            "Gender": "Female",
            "Population": 30898
           },
           {
            "Age": 14,
            "Gender": "Female",
            "Population": 30945
           },
           {
            "Age": 15,
            "Gender": "Female",
            "Population": 31596
           },
           {
            "Age": 16,
            "Gender": "Female",
            "Population": 32336
           },
           {
            "Age": 17,
            "Gender": "Female",
            "Population": 32740
           },
           {
            "Age": 18,
            "Gender": "Female",
            "Population": 33955
           },
           {
            "Age": 19,
            "Gender": "Female",
            "Population": 36130
           },
           {
            "Age": 20,
            "Gender": "Female",
            "Population": 36614
           },
           {
            "Age": 21,
            "Gender": "Female",
            "Population": 34685
           },
           {
            "Age": 22,
            "Gender": "Female",
            "Population": 33259
           },
           {
            "Age": 23,
            "Gender": "Female",
            "Population": 32266
           },
           {
            "Age": 24,
            "Gender": "Female",
            "Population": 31847
           },
           {
            "Age": 25,
            "Gender": "Female",
            "Population": 31848
           },
           {
            "Age": 26,
            "Gender": "Female",
            "Population": 31063
           },
           {
            "Age": 27,
            "Gender": "Female",
            "Population": 31215
           },
           {
            "Age": 28,
            "Gender": "Female",
            "Population": 31307
           },
           {
            "Age": 29,
            "Gender": "Female",
            "Population": 31468
           },
           {
            "Age": 30,
            "Gender": "Female",
            "Population": 32173
           },
           {
            "Age": 31,
            "Gender": "Female",
            "Population": 30474
           },
           {
            "Age": 32,
            "Gender": "Female",
            "Population": 30116
           },
           {
            "Age": 33,
            "Gender": "Female",
            "Population": 30027
           },
           {
            "Age": 34,
            "Gender": "Female",
            "Population": 28949
           },
           {
            "Age": 35,
            "Gender": "Female",
            "Population": 30051
           },
           {
            "Age": 36,
            "Gender": "Female",
            "Population": 29644
           },
           {
            "Age": 37,
            "Gender": "Female",
            "Population": 30650
           },
           {
            "Age": 38,
            "Gender": "Female",
            "Population": 32041
           },
           {
            "Age": 39,
            "Gender": "Female",
            "Population": 33643
           },
           {
            "Age": 40,
            "Gender": "Female",
            "Population": 33151
           },
           {
            "Age": 41,
            "Gender": "Female",
            "Population": 31415
           },
           {
            "Age": 42,
            "Gender": "Female",
            "Population": 30746
           },
           {
            "Age": 43,
            "Gender": "Female",
            "Population": 30951
           },
           {
            "Age": 44,
            "Gender": "Female",
            "Population": 32057
           },
           {
            "Age": 45,
            "Gender": "Female",
            "Population": 34366
           },
           {
            "Age": 46,
            "Gender": "Female",
            "Population": 35084
           },
           {
            "Age": 47,
            "Gender": "Female",
            "Population": 35324
           },
           {
            "Age": 48,
            "Gender": "Female",
            "Population": 35634
           },
           {
            "Age": 49,
            "Gender": "Female",
            "Population": 36198
           },
           {
            "Age": 50,
            "Gender": "Female",
            "Population": 36353
           },
           {
            "Age": 51,
            "Gender": "Female",
            "Population": 35726
           },
           {
            "Age": 52,
            "Gender": "Female",
            "Population": 35946
           },
           {
            "Age": 53,
            "Gender": "Female",
            "Population": 36070
           },
           {
            "Age": 54,
            "Gender": "Female",
            "Population": 34862
           },
           {
            "Age": 55,
            "Gender": "Female",
            "Population": 34747
           },
           {
            "Age": 56,
            "Gender": "Female",
            "Population": 33913
           },
           {
            "Age": 57,
            "Gender": "Female",
            "Population": 32407
           },
           {
            "Age": 58,
            "Gender": "Female",
            "Population": 31563
           },
           {
            "Age": 59,
            "Gender": "Female",
            "Population": 30695
           },
           {
            "Age": 60,
            "Gender": "Female",
            "Population": 30397
           },
           {
            "Age": 61,
            "Gender": "Female",
            "Population": 30232
           },
           {
            "Age": 62,
            "Gender": "Female",
            "Population": 30108
           },
           {
            "Age": 63,
            "Gender": "Female",
            "Population": 31353
           },
           {
            "Age": 64,
            "Gender": "Female",
            "Population": 23509
           },
           {
            "Age": 65,
            "Gender": "Female",
            "Population": 23650
           },
           {
            "Age": 66,
            "Gender": "Female",
            "Population": 23391
           },
           {
            "Age": 67,
            "Gender": "Female",
            "Population": 24352
           },
           {
            "Age": 68,
            "Gender": "Female",
            "Population": 21230
           },
           {
            "Age": 69,
            "Gender": "Female",
            "Population": 19749
           },
           {
            "Age": 70,
            "Gender": "Female",
            "Population": 19409
           },
           {
            "Age": 71,
            "Gender": "Female",
            "Population": 18499
           },
           {
            "Age": 72,
            "Gender": "Female",
            "Population": 18105
           },
           {
            "Age": 73,
            "Gender": "Female",
            "Population": 16730
           },
           {
            "Age": 74,
            "Gender": "Female",
            "Population": 16272
           },
           {
            "Age": 75,
            "Gender": "Female",
            "Population": 15932
           },
           {
            "Age": 76,
            "Gender": "Female",
            "Population": 14435
           },
           {
            "Age": 77,
            "Gender": "Female",
            "Population": 13914
           },
           {
            "Age": 78,
            "Gender": "Female",
            "Population": 13597
           },
           {
            "Age": 79,
            "Gender": "Female",
            "Population": 13085
           },
           {
            "Age": 80,
            "Gender": "Female",
            "Population": 12664
           },
           {
            "Age": 81,
            "Gender": "Female",
            "Population": 11589
           },
           {
            "Age": 82,
            "Gender": "Female",
            "Population": 11206
           },
           {
            "Age": 83,
            "Gender": "Female",
            "Population": 10435
           },
           {
            "Age": 84,
            "Gender": "Female",
            "Population": 9387
           }
          ]
         },
         "encoding": {
          "tooltip": [
           {
            "field": "Population",
            "type": "quantitative"
           },
           {
            "field": "Gender",
            "type": "nominal"
           }
          ],
          "x": {
           "field": "Gender",
           "type": "nominal"
          },
          "y": {
           "field": "Population",
           "type": "quantitative"
          }
         },
         "height": 500,
         "mark": "bar",
         "title": "Age Group by Gender",
         "transform": [
          {
           "filter": {
            "selection": "selector041"
           }
          },
          {
           "aggregate": [
            {
             "as": "Population",
             "field": "Population",
             "op": "sum"
            }
           ],
           "groupby": [
            "Gender"
           ]
          }
         ],
         "width": 200
        }
       ]
      },
      "image/png": "[encoded data removed]",
      "text/plain": [
       "<VegaLite 2 object>\n",
       "\n",
       "If you see this message, it means the renderer has not been properly enabled\n",
       "for the frontend that you are using. For more information, see\n",
       "https://altair-viz.github.io/user_guide/troubleshooting.html\n"
      ]
     },
     "execution_count": 106,
     "metadata": {},
     "output_type": "execute_result"
    }
   ],
   "source": [
    "data = load_data()\n",
    "# show_scatter(filter_state(2010, 1, data), state_name(data, 1))\n",
    "show_scatter(data=data, year=2010, state=1)"
   ]
  },
  {
   "cell_type": "code",
   "execution_count": null,
   "metadata": {},
   "outputs": [],
   "source": []
  }
 ],
 "metadata": {
  "kernelspec": {
   "display_name": "Python 3",
   "language": "python",
   "name": "python3"
  },
  "language_info": {
   "codemirror_mode": {
    "name": "ipython",
    "version": 3
   },
   "file_extension": ".py",
   "mimetype": "text/x-python",
   "name": "python",
   "nbconvert_exporter": "python",
   "pygments_lexer": "ipython3",
   "version": "3.7.0"
  }
 },
 "nbformat": 4,
 "nbformat_minor": 2
}
